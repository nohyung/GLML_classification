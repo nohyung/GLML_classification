{
 "cells": [
  {
   "cell_type": "markdown",
   "metadata": {},
   "source": [
    "## Generative Local Metric Learning example"
   ]
  },
  {
   "cell_type": "code",
   "execution_count": 1,
   "metadata": {
    "collapsed": false
   },
   "outputs": [
    {
     "name": "stdout",
     "output_type": "stream",
     "text": [
      "Populating the interactive namespace from numpy and matplotlib\n"
     ]
    }
   ],
   "source": [
    "import numpy as np\n",
    "\n",
    "%pylab inline"
   ]
  },
  {
   "cell_type": "markdown",
   "metadata": {},
   "source": [
    "## Gaussian data generation\n",
    "\n",
    "1) Make two true mean parameters\n",
    "\n",
    "2) Make two random positive definite symmetric matrices for two true covariance matrices"
   ]
  },
  {
   "cell_type": "code",
   "execution_count": 2,
   "metadata": {
    "collapsed": true
   },
   "outputs": [],
   "source": [
    "dim = 10;\n",
    "\n",
    "# True density\n",
    "# Mean vectors\n",
    "trueMean_1 = np.zeros(dim)\n",
    "trueMean_2 = np.concatenate(([1],np.zeros(dim-1)))\n",
    "\n",
    "# covariance matrices\n",
    "trueCov_1 = np.random.randn(dim,dim)\n",
    "trueCov_1 = np.dot(trueCov_1.T, trueCov_1)\n",
    "trueCov_2 = np.random.randn(dim,dim)\n",
    "trueCov_2 = trueCov_1 + .001*np.dot(trueCov_2.T, trueCov_2)   # two covariance matrices are very similar\n"
   ]
  },
  {
   "cell_type": "markdown",
   "metadata": {},
   "source": [
    "### Generate data according to the true parameters"
   ]
  },
  {
   "cell_type": "code",
   "execution_count": 3,
   "metadata": {
    "collapsed": true
   },
   "outputs": [],
   "source": [
    "# data generation\n",
    "datanum = 100\n",
    "tstdatanum = 1000\n",
    "\n",
    "X1 = np.random.multivariate_normal(trueMean_1, trueCov_1, datanum)\n",
    "tstX1 = np.random.multivariate_normal(trueMean_1, trueCov_1, tstdatanum)\n",
    "\n",
    "X2 = np.random.multivariate_normal(trueMean_2, trueCov_2, datanum)\n",
    "tstX2 = np.random.multivariate_normal(trueMean_2, trueCov_2, tstdatanum)\n"
   ]
  },
  {
   "cell_type": "markdown",
   "metadata": {},
   "source": [
    "### We are given data. Now estimate parameters"
   ]
  },
  {
   "cell_type": "code",
   "execution_count": 4,
   "metadata": {
    "collapsed": true
   },
   "outputs": [],
   "source": [
    "estM1 = sum(X1,axis=0)/datanum\n",
    "estM2 = sum(X2,axis=0)/datanum\n",
    "\n",
    "estCov1 = np.dot(X1.T,X1)/datanum - np.outer(estM1, estM1)\n",
    "estCov2 = np.dot(X2.T,X2)/datanum - np.outer(estM2, estM2)\n"
   ]
  },
  {
   "cell_type": "markdown",
   "metadata": {},
   "source": [
    "### Define a function for Gaussian probability densities"
   ]
  },
  {
   "cell_type": "code",
   "execution_count": 5,
   "metadata": {
    "collapsed": true
   },
   "outputs": [],
   "source": [
    "def getLogGaussian(X, mu, Sig):\n",
    "    ''' evalute log probability of Gaussian distribution\n",
    "    given the Gaussian distribution model (mean and covariance).'''\n",
    "    # X: datanum x dim\n",
    "    nData, nDim = X.shape\n",
    "    detSig = np.linalg.det(Sig)\n",
    "    invSig = np.linalg.inv(Sig)    \n",
    "    logPs = np.zeros(nData)\n",
    "    \n",
    "    const = - nDim / (2.) * np.log(2*np.pi) - 1 / (2.) * np.log(detSig) # sacalar\n",
    "    for i in range(nData):\n",
    "        x = X[i,:]\n",
    "        expval = - 1/2. * (x - mu).reshape(1,-1).dot(invSig).dot((x - mu).reshape(-1,1)) # 2d array\n",
    "        logPs[i] =  const + expval\n",
    "    return logPs\n"
   ]
  },
  {
   "cell_type": "markdown",
   "metadata": {},
   "source": [
    "### Define a function for GLML metric"
   ]
  },
  {
   "cell_type": "code",
   "execution_count": 6,
   "metadata": {
    "collapsed": true
   },
   "outputs": [],
   "source": [
    "def GLML_Gaussian(tstpt, logPsAttstX, means, invSigs, regSup=-10):\n",
    "    # Author: Yung-Kyun Noh\n",
    "    # X -> L'*X, \n",
    "    # dist^2 = (x1 - x2)*L*L'*(x1 - x2)\n",
    "\n",
    "    relPsAttstX = np.exp(logPsAttstX - np.max(logPsAttstX))  # 1,...,classnum\n",
    "    \n",
    "    classnum = np.shape(means)[0]\n",
    "    Dim = np.shape(means)[1]\n",
    "\n",
    "    # pre-calculation\n",
    "    HessianOverPs = np.zeros([classnum,dim,dim])\n",
    "    for iclass in range(classnum):\n",
    "        invSigsDiff = np.dot(invSigs[iclass,:,:], tstpt - means[iclass,:])\n",
    "        HessianOverPs[iclass,:,:] = np.outer(invSigsDiff,invSigsDiff) - invSigs[iclass,:,:]\n",
    "\n",
    "    Met = np.zeros([Dim,Dim])\n",
    "    ZeroVal = np.power(10,-100)\n",
    "    ZeroPIndex = (abs(relPsAttstX) <= ZeroVal)    # 1 ~ classnum\n",
    "    if np.sum(ZeroPIndex) == classnum:     # p1 = 0, p2 = 0, p3 = 0\n",
    "        print '**** All p vals are zero ****'\n",
    "        return\n",
    "    elif np.sum(ZeroPIndex) == classnum - 1:    # p1 > 0, p2 = 0, p3 = 0\n",
    "        for iclass in range(classnum):\n",
    "            print ZeroPIndex[iclass]\n",
    "            if not ZeroPIndex[iclass]:    # nonZero P\n",
    "                Met = Met - (classnum - 1)*HessianOverPs[iclass,:,:]\n",
    "            else:\n",
    "                Met = Met + HessianOverPs[iclass,:,:]\n",
    "    else:    # general case: more than two classes have positive probability density\n",
    "        for iclass in range(classnum):\n",
    "            # to avoid numerical error\n",
    "            noniclass = \\\n",
    "                np.concatenate([np.arange(iclass),iclass+1 + np.arange(classnum - (iclass+1))])\n",
    "            sumPsqExCur = np.sum(np.power(relPsAttstX[noniclass],2))\n",
    "            sumPExCur = np.sum(relPsAttstX[noniclass])\n",
    "            Met = Met + \\\n",
    "                (sumPsqExCur*relPsAttstX[iclass] - sumPExCur*np.power(relPsAttstX[iclass],2))* \\\n",
    "                HessianOverPs[iclass,:,:];\n",
    "\n",
    "    Met = (Met.T + Met)/2    # make sure the matrix is symmetric\n",
    "\n",
    "    vals, vecs = np.linalg.eig(Met)\n",
    "    sortedIdxes = np.argsort(vals)\n",
    "    evals = vals[sortedIdxes]\n",
    "    evecs = vecs[:,sortedIdxes]\n",
    "\n",
    "    PosEvalIndex = (evals >= 0)\n",
    "    NegEvalIndex = (evals < 0)\n",
    "\n",
    "    regR = Dim*np.power(10,regSup)*np.max(np.abs(evals[[0,-1]]))\n",
    "\n",
    "    PosEvalNum = np.sum(PosEvalIndex)\n",
    "    NegEvalNum = np.sum(NegEvalIndex)\n",
    "   \n",
    "    evalscale = -1/Dim*( \\\n",
    "        np.sum(log(evals[PosEvalIndex]*PosEvalNum + regR)) + \\\n",
    "        np.sum(log(evals[NegEvalIndex]*NegEvalNum*(-1) + regR)))\n",
    "\n",
    "    evals = evals*exp(evalscale);\n",
    "    regR = regR*exp(evalscale);\n",
    "\n",
    "    L = np.hstack( \\\n",
    "        [evecs[:,PosEvalIndex].dot(np.diag(sqrt(evals[PosEvalIndex]*PosEvalNum + regR))), \\\n",
    "        evecs[:,NegEvalIndex].dot(np.diag(sqrt(evals[NegEvalIndex]*NegEvalNum*(-1) + regR)))])\n",
    "    return L\n"
   ]
  },
  {
   "cell_type": "markdown",
   "metadata": {},
   "source": [
    "### Classification"
   ]
  },
  {
   "cell_type": "code",
   "execution_count": 7,
   "metadata": {
    "collapsed": false
   },
   "outputs": [
    {
     "name": "stdout",
     "output_type": "stream",
     "text": [
      "908.0\n",
      "950.0\n",
      "0.929\n"
     ]
    }
   ],
   "source": [
    "classnum = 2\n",
    "knum = 5\n",
    "means = np.vstack([estM1,estM2])\n",
    "invSigs = np.zeros([classnum,dim,dim])\n",
    "invSigs[0,:,:] = np.linalg.inv(estCov1)\n",
    "invSigs[1,:,:] = np.linalg.inv(estCov2)\n",
    "\n",
    "probC1tst1 = getLogGaussian(tstX1, estM1, estCov1)   # array\n",
    "probC2tst1 = getLogGaussian(tstX1, estM2, estCov2)\n",
    "probC1tst2 = getLogGaussian(tstX2, estM1, estCov1)\n",
    "probC2tst2 = getLogGaussian(tstX2, estM2, estCov2)\n",
    "\n",
    "totX = np.vstack([X1,X2])\n",
    "Labels = np.concatenate((np.ones(datanum), 2*np.ones(datanum)))\n",
    "\n",
    "# for class 1\n",
    "AlllogPsAttstX1 = np.transpose([probC1tst1,probC2tst1])\n",
    "\n",
    "Idxes = np.zeros([tstdatanum,knum], dtype=np.int)\n",
    "for icnt in range(tstdatanum):\n",
    "    L = GLML_Gaussian(tstX1[icnt,:], AlllogPsAttstX1[icnt,:], means, invSigs)\n",
    "\n",
    "    dists = np.diag(np.dot(np.dot(totX, L), np.dot(totX, L).T)) + \\\n",
    "        np.dot(np.dot(tstX1[icnt,:], L), np.dot(tstX1[icnt,:], L))*np.ones(datanum*2) - \\\n",
    "        2*np.dot(np.dot(totX, L), np.dot(tstX1[icnt,:], L))\n",
    "    Idxes[icnt,:] = np.argsort(dists)[0:knum]\n",
    "\n",
    "NNEachClass = np.zeros([np.shape(tstX1)[0], classnum])\n",
    "for iclass in range(classnum):\n",
    "    NNEachClass[:,iclass] = np.sum(Labels[Idxes[:,0:knum]] == (iclass + 1), axis = 1)\n",
    "\n",
    "obtainedClasses = np.argmax(NNEachClass, axis = 1)\n",
    "class1CorrectNum = np.double(sum(obtainedClasses + 1 == 1))   # class 1\n",
    "\n",
    "\n",
    "# class 2\n",
    "AlllogPsAttstX2 = np.transpose([probC1tst2,probC2tst2])\n",
    "\n",
    "Idxes = np.zeros([tstdatanum,knum], dtype=np.int)\n",
    "for icnt in range(tstdatanum):\n",
    "    L = GLML_Gaussian(tstX2[icnt,:], AlllogPsAttstX2[icnt,:], means, invSigs)\n",
    "\n",
    "    dists = np.diag(np.dot(np.dot(totX, L), np.dot(totX, L).T)) + \\\n",
    "        np.dot(np.dot(tstX2[icnt,:], L), np.dot(tstX2[icnt,:], L))*np.ones(datanum*2) - \\\n",
    "        2*np.dot(np.dot(totX, L), np.dot(tstX2[icnt,:], L))\n",
    "    Idxes[icnt,:] = np.argsort(dists)[0:knum]\n",
    "\n",
    "NNEachClass = np.zeros([np.shape(tstX2)[0], classnum])\n",
    "for iclass in range(classnum):\n",
    "    NNEachClass[:,iclass] = np.sum(Labels[Idxes[:,0:knum]] == (iclass + 1), axis = 1)\n",
    "\n",
    "obtainedClasses = np.argmax(NNEachClass, axis = 1)\n",
    "class2CorrectNum = np.double(sum(obtainedClasses + 1 == 2))   # class 2\n",
    "\n",
    "GLMLAccuracy = (class1CorrectNum + class2CorrectNum)/(2.*tstdatanum)\n",
    "\n",
    "print class1CorrectNum\n",
    "print class2CorrectNum\n",
    "print GLMLAccuracy"
   ]
  }
 ],
 "metadata": {
  "kernelspec": {
   "display_name": "Python 2",
   "language": "python",
   "name": "python2"
  },
  "language_info": {
   "codemirror_mode": {
    "name": "ipython",
    "version": 2
   },
   "file_extension": ".py",
   "mimetype": "text/x-python",
   "name": "python",
   "nbconvert_exporter": "python",
   "pygments_lexer": "ipython2",
   "version": "2.7.6"
  }
 },
 "nbformat": 4,
 "nbformat_minor": 1
}
